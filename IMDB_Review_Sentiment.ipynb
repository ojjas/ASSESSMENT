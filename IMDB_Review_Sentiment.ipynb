{
 "cells": [
  {
   "cell_type": "markdown",
   "metadata": {},
   "source": [
    "### [1]. IMPORTING NECESSARY LIBRARIES AND FILES"
   ]
  },
  {
   "cell_type": "code",
   "execution_count": 9,
   "metadata": {},
   "outputs": [
    {
     "name": "stderr",
     "output_type": "stream",
     "text": [
      "[nltk_data] Downloading package stopwords to\n",
      "[nltk_data]     C:\\Users\\Lenovo\\AppData\\Roaming\\nltk_data...\n",
      "[nltk_data]   Package stopwords is already up-to-date!\n"
     ]
    }
   ],
   "source": [
    "import tensorflow as tf\n",
    "import numpy as np\n",
    "import matplotlib.pyplot as plt\n",
    "import pandas as pd\n",
    "import seaborn as sns\n",
    "import PreprocessingFile #A python file to preprocess text data"
   ]
  },
  {
   "cell_type": "code",
   "execution_count": 2,
   "metadata": {},
   "outputs": [],
   "source": [
    "from tensorflow.keras.preprocessing.text import Tokenizer\n",
    "from tensorflow.keras.preprocessing.sequence import pad_sequences"
   ]
  },
  {
   "cell_type": "markdown",
   "metadata": {},
   "source": [
    "### [2]. IMPORTING DATASET USING PANDAS"
   ]
  },
  {
   "cell_type": "code",
   "execution_count": 3,
   "metadata": {},
   "outputs": [],
   "source": [
    "col_names = ['Text', 'Label']\n",
    "train_data = pd.read_csv('Train.csv', names= col_names)\n",
    "test_data = pd.read_csv('Test.csv', names= col_names)"
   ]
  },
  {
   "cell_type": "code",
   "execution_count": 4,
   "metadata": {},
   "outputs": [],
   "source": [
    "#Removing first row with headings\n",
    "train_data.drop(0, axis=0,inplace=True)\n",
    "test_data.drop(0, axis=0,inplace=True)"
   ]
  },
  {
   "cell_type": "code",
   "execution_count": 5,
   "metadata": {},
   "outputs": [
    {
     "data": {
      "text/html": [
       "<div>\n",
       "<style scoped>\n",
       "    .dataframe tbody tr th:only-of-type {\n",
       "        vertical-align: middle;\n",
       "    }\n",
       "\n",
       "    .dataframe tbody tr th {\n",
       "        vertical-align: top;\n",
       "    }\n",
       "\n",
       "    .dataframe thead th {\n",
       "        text-align: right;\n",
       "    }\n",
       "</style>\n",
       "<table border=\"1\" class=\"dataframe\">\n",
       "  <thead>\n",
       "    <tr style=\"text-align: right;\">\n",
       "      <th></th>\n",
       "      <th>Text</th>\n",
       "      <th>Label</th>\n",
       "    </tr>\n",
       "  </thead>\n",
       "  <tbody>\n",
       "    <tr>\n",
       "      <th>1</th>\n",
       "      <td>I grew up (b. 1965) watching and loving the Th...</td>\n",
       "      <td>0</td>\n",
       "    </tr>\n",
       "    <tr>\n",
       "      <th>2</th>\n",
       "      <td>When I put this movie in my DVD player, and sa...</td>\n",
       "      <td>0</td>\n",
       "    </tr>\n",
       "    <tr>\n",
       "      <th>3</th>\n",
       "      <td>Why do people who do not know what a particula...</td>\n",
       "      <td>0</td>\n",
       "    </tr>\n",
       "    <tr>\n",
       "      <th>4</th>\n",
       "      <td>Even though I have great interest in Biblical ...</td>\n",
       "      <td>0</td>\n",
       "    </tr>\n",
       "    <tr>\n",
       "      <th>5</th>\n",
       "      <td>Im a die hard Dads Army fan and nothing will e...</td>\n",
       "      <td>1</td>\n",
       "    </tr>\n",
       "  </tbody>\n",
       "</table>\n",
       "</div>"
      ],
      "text/plain": [
       "                                                Text Label\n",
       "1  I grew up (b. 1965) watching and loving the Th...     0\n",
       "2  When I put this movie in my DVD player, and sa...     0\n",
       "3  Why do people who do not know what a particula...     0\n",
       "4  Even though I have great interest in Biblical ...     0\n",
       "5  Im a die hard Dads Army fan and nothing will e...     1"
      ]
     },
     "execution_count": 5,
     "metadata": {},
     "output_type": "execute_result"
    }
   ],
   "source": [
    "#Check the first 5 rows of the pandas dataframe\n",
    "train_data.head()"
   ]
  },
  {
   "cell_type": "markdown",
   "metadata": {},
   "source": [
    "### [3]. PREPROCESSING THE DATASET"
   ]
  },
  {
   "cell_type": "code",
   "execution_count": 6,
   "metadata": {},
   "outputs": [],
   "source": [
    "#Extractinng train data into lists\n",
    "train_text = train_data.Text.tolist()\n",
    "\n",
    "train_label = train_data.Label.tolist()\n",
    "\n",
    "\n",
    "#Extracting test data into lists \n",
    "test_text = test_data.Text.tolist()\n",
    "\n",
    "test_label = test_data.Label.tolist()"
   ]
  },
  {
   "cell_type": "code",
   "execution_count": 7,
   "metadata": {},
   "outputs": [],
   "source": [
    "#Converting the labels into integers\n",
    "for i in range(len(train_label)):\n",
    "    train_label[i] = int(train_label[i])\n",
    "    \n",
    "for i in range(len(test_label)):\n",
    "    test_label[i] = int(test_label[i])"
   ]
  },
  {
   "cell_type": "code",
   "execution_count": 8,
   "metadata": {},
   "outputs": [
    {
     "data": {
      "text/plain": [
       "[0, 0, 0, 0, 1, 0, 1, 0, 1, 1]"
      ]
     },
     "execution_count": 8,
     "metadata": {},
     "output_type": "execute_result"
    }
   ],
   "source": [
    "train_label[:10]"
   ]
  },
  {
   "cell_type": "code",
   "execution_count": 10,
   "metadata": {},
   "outputs": [
    {
     "name": "stderr",
     "output_type": "stream",
     "text": [
      "Preprocessing: 100%|██████████| 40000/40000 [00:49<00:00, 804.74it/s] \n",
      "Preprocessing: 100%|██████████| 5000/5000 [00:06<00:00, 771.38it/s]\n"
     ]
    }
   ],
   "source": [
    "# preprocessing the text data in train and test dataset\n",
    "preprocessed_text_train = PreprocessingFile.preprocess_list(train_text)\n",
    " \n",
    "preprocessed_text_test =  PreprocessingFile.preprocess_list(test_text)"
   ]
  },
  {
   "cell_type": "code",
   "execution_count": 11,
   "metadata": {},
   "outputs": [],
   "source": [
    "# Checking the length of each review i.e. no. of words per review\n",
    "text_split_train = [text.split() for text in preprocessed_text_train]\n",
    "text_length_train = [len(words) for words in text_split_train]"
   ]
  },
  {
   "cell_type": "code",
   "execution_count": 12,
   "metadata": {},
   "outputs": [
    {
     "name": "stdout",
     "output_type": "stream",
     "text": [
      "1449\n"
     ]
    }
   ],
   "source": [
    "# Checking for maximum length of a review in the Train dataset\n",
    "# print(text_length_train)\n",
    "print(max(text_length_train))"
   ]
  },
  {
   "cell_type": "code",
   "execution_count": 13,
   "metadata": {},
   "outputs": [
    {
     "data": {
      "image/png": "[encoded data removed]",
      "text/plain": [
       "<Figure size 576x288 with 2 Axes>"
      ]
     },
     "metadata": {
      "needs_background": "light"
     },
     "output_type": "display_data"
    }
   ],
   "source": [
    "# Visualizing Distribution of length of reviews \n",
    "fig = plt.figure(figsize=plt.figaspect(.5))\n",
    "\n",
    "ax1 = plt.subplot(121)\n",
    "sns.kdeplot(text_length_train, shade=True, ax=ax1)\n",
    "plt.xlabel('')\n",
    "plt.title(\"PDF of Review Length[Training]\")\n",
    "\n",
    "ax2 = plt.subplot(122)\n",
    "sns.kdeplot(text_length_train, shade=True, cumulative=True,ax=ax2)\n",
    "plt.xlabel('')\n",
    "plt.title('CDF of Review Length[Training]')\n",
    "\n",
    "plt.show()"
   ]
  },
  {
   "cell_type": "code",
   "execution_count": 14,
   "metadata": {},
   "outputs": [],
   "source": [
    "top_words = 20000              \n",
    "max_length = 500\n",
    "trunc_type = 'post'\n",
    "oov_tok = '<OOV>'"
   ]
  },
  {
   "cell_type": "code",
   "execution_count": 15,
   "metadata": {},
   "outputs": [],
   "source": [
    "#Tokenizing the text data in train and test dataset\n",
    "tokenizer = Tokenizer(num_words=top_words, oov_token=oov_tok)\n",
    "tokenizer.fit_on_texts(preprocessed_text_train)\n",
    "\n",
    "sequences = tokenizer.texts_to_sequences(preprocessed_text_train)\n",
    "#padding on tokenized train data\n",
    "train_padded = pad_sequences(sequences, maxlen=max_length, truncating=trunc_type)\n",
    "\n",
    "test_sequences = tokenizer.texts_to_sequences(preprocessed_text_test)\n",
    "#padding on tokenized test data\n",
    "test_padded = pad_sequences(test_sequences, maxlen=max_length)"
   ]
  },
  {
   "cell_type": "code",
   "execution_count": 16,
   "metadata": {},
   "outputs": [
    {
     "data": {
      "text/plain": [
       "((40000, 500), (5000, 500))"
      ]
     },
     "execution_count": 16,
     "metadata": {},
     "output_type": "execute_result"
    }
   ],
   "source": [
    "#Check the final shape of text data\n",
    "train_padded.shape, test_padded.shape"
   ]
  },
  {
   "cell_type": "code",
   "execution_count": 25,
   "metadata": {},
   "outputs": [],
   "source": [
    "#Converting the train and test labels into One hot encoded vectors\n",
    "train_label = tf.keras.utils.to_categorical(train_label, num_classes=2)\n",
    "test_label  = tf.keras.utils.to_categorical(test_label, num_classes=2)\n"
   ]
  },
  {
   "cell_type": "markdown",
   "metadata": {},
   "source": [
    "### [4]. MODEL BUILDING"
   ]
  },
  {
   "cell_type": "markdown",
   "metadata": {},
   "source": [
    "##### [4a]. INITIALIZING NEURAL NETWORK"
   ]
  },
  {
   "cell_type": "code",
   "execution_count": 18,
   "metadata": {},
   "outputs": [],
   "source": [
    "#Format: NeuralNetwork[['no._of_features', 'no._of_neurons_in_each_layers', 'no._of_class_labels']] \n",
    "\n",
    "class NeuralNetwork:\n",
    "    def __init__(self, layers):\n",
    "        self.layers = layers           #Feeding layers into layers variable\n",
    "        self.L = len(layers)           #No. of layers\n",
    "        self.num_features = layers[0]  #Number of features\n",
    "        self.num_classes  = layers[-1] #Number of class labels\n",
    "\n",
    "        self.W = {} \n",
    "        self.b = {}\n",
    "\n",
    "        self.dW = {}\n",
    "        self.db = {}\n",
    "\n",
    "        self.setup()\n",
    "    \n",
    "    def setup(self):\n",
    "        for i in range(1, self.L):   #Looping over each layer\n",
    "            self.W[i] = tf.Variable(tf.random.normal(shape = (self.layers[i], self.layers[i-1])))  #Initializing the weights with normal distribution\n",
    "            self.b[i] = tf.Variable(tf.random.normal(shape = (self.layers[i], 1)))                 #Initializing the biases with normal distribution"
   ]
  },
  {
   "cell_type": "markdown",
   "metadata": {},
   "source": [
    "##### [4b]. FORWARD PROPAGATION"
   ]
  },
  {
   "cell_type": "code",
   "execution_count": 19,
   "metadata": {},
   "outputs": [],
   "source": [
    "class NeuralNetwork(NeuralNetwork):\n",
    "    def forward_pass(self, X):\n",
    "        A = tf.convert_to_tensor(X, dtype=tf.float32)    #Converting input to tensor\n",
    "        for i in range(1, self.L):\n",
    "            Z = tf.matmul(A, tf.transpose(self.W[i])) + tf.transpose(self.b[i])    #Z = W^T * X + b\n",
    "            if i != self.L-1:\n",
    "                A = tf.nn.relu(Z)   #Using ReLu activation for each hidden layer\n",
    "            else:\n",
    "                A = Z\n",
    "        return A"
   ]
  },
  {
   "cell_type": "markdown",
   "metadata": {},
   "source": [
    "##### [4c]. COMPUTING LOSS AND UPDATING PARAMETERS"
   ]
  },
  {
   "cell_type": "code",
   "execution_count": 20,
   "metadata": {},
   "outputs": [],
   "source": [
    "class NeuralNetwork(NeuralNetwork):\n",
    "    def compute_loss(self, A, Y):\n",
    "        loss = tf.nn.softmax_cross_entropy_with_logits(Y, A) \n",
    "        return tf.reduce_mean(loss)      #Since the inputs will be in batches, thus taking mean of all losses\n",
    "\n",
    "    def update_params(self, lr):\n",
    "        for i in range(1, self.L):\n",
    "            self.W[i].assign_sub(lr * self.dW[i])     #W[i](new) = W[i](old) - lr * (dL/dW)\n",
    "            self.b[i].assign_sub(lr * self.db[i])     #b[i](new) = b[i](old) - lr * (dL/db)\n",
    "            "
   ]
  },
  {
   "cell_type": "markdown",
   "metadata": {},
   "source": [
    "##### [4d]. PREDICTION ON TEST DATASET"
   ]
  },
  {
   "cell_type": "code",
   "execution_count": 21,
   "metadata": {},
   "outputs": [],
   "source": [
    "class NeuralNetwork(NeuralNetwork):\n",
    "    def predict(self, X):\n",
    "        A = self.forward_pass(X)\n",
    "        return tf.argmax(tf.nn.softmax(A), axis=1)  #Using softmax layer to predict the class label\n",
    "\n",
    "    def info(self):     #Information of no. of layers and no. of trainable params\n",
    "        num_params = 0\n",
    "        for i in range(1, self.L):\n",
    "            num_params += self.W[i].shape[0] * self.W[i].shape[1]\n",
    "            num_params += self.b[i].shape[0] * self.b[i].shape[1]\n",
    "        print('Input Features:', self.num_features)\n",
    "        print('Number of Classes', self.num_classes)\n",
    "        print('Hidden Layers:')\n",
    "        print('---------------')\n",
    "        for i in range(1, self.L-1):\n",
    "            print('Layer {}, Units {}'.format(i, self.layers[i]))\n",
    "        print('----------------')\n",
    "        print('Number of parameters:', num_params)"
   ]
  },
  {
   "cell_type": "markdown",
   "metadata": {},
   "source": [
    "##### [4e]. TRAINING OF BATCH"
   ]
  },
  {
   "cell_type": "code",
   "execution_count": 22,
   "metadata": {},
   "outputs": [],
   "source": [
    "class NeuralNetwork(NeuralNetwork):\n",
    "    def train_on_batch(self, X, Y, lr):\n",
    "        X = tf.convert_to_tensor(X, dtype=tf.float32)      #Convertin input vector to tensor\n",
    "        Y = tf.convert_to_tensor(Y, dtype=tf.float32)      #Convertin ouput vector to tensor\n",
    "\n",
    "        with tf.GradientTape(persistent=True) as tape:\n",
    "            A = self.forward_pass(X)\n",
    "            loss = self.compute_loss(A, Y)\n",
    "        for i in range(1, self.L):\n",
    "            self.dW[i] = tape.gradient(loss, self.W[i])    #Finding the gradient (dL/dW) to update the weights\n",
    "            self.db[i] = tape.gradient(loss, self.b[i])    #Finding the gradient (dL/db) to update the biases\n",
    "        del tape\n",
    "        self.update_params(lr)\n",
    "        return loss.numpy()      \n"
   ]
  },
  {
   "cell_type": "markdown",
   "metadata": {},
   "source": [
    "##### [4f]. TRAINING ON COMPLETE DATASET"
   ]
  },
  {
   "cell_type": "code",
   "execution_count": 24,
   "metadata": {},
   "outputs": [],
   "source": [
    "class NeuralNetwork(NeuralNetwork):\n",
    "    def train(self, x_train, y_train, x_test, y_test, epochs, steps_per_epoch, batch_size, lr):\n",
    "        history = {\n",
    "            'val_loss': [],\n",
    "            'train_loss': [],\n",
    "            'val_acc': []\n",
    "        }\n",
    "\n",
    "        for e in range(0, epochs):\n",
    "            epoch_train_loss = 0\n",
    "            print('Epoch {}'.format(e), end='.')\n",
    "            for i in range(0, steps_per_epoch):\n",
    "                x_batch = x_train[i*batch_size:(i+1)*batch_size]     #Creating batches from train dataset\n",
    "                y_batch = y_train[i*batch_size:(i+1)*batch_size]     #Creating batches from test dataset\n",
    "\n",
    "                batch_loss = self.train_on_batch(x_batch, y_batch, lr)\n",
    "                epoch_train_loss += batch_loss\n",
    "\n",
    "                if i%int(steps_per_epoch/10) == 0:\n",
    "                    print(end='.')\n",
    "            \n",
    "            history['train_loss'].append(epoch_train_loss/steps_per_epoch)    #Updating the train_loss after each epoch\n",
    "            val_A = self.forward_pass(x_test)\n",
    "            val_loss = self.compute_loss(val_A, y_test).numpy()\n",
    "            history['val_loss'].append(val_loss)                              #Updating the test_loss/validation_loss after each epoch           \n",
    "            val_preds = self.predict(x_test)\n",
    "            val_acc = np.mean(np.argmax(y_test, axis=1) == val_preds.numpy()) \n",
    "            history['val_acc'].append(val_acc)                                ##Updating the validation_accuracy after each epoch\n",
    "            print('Val acc:',val_acc)\n",
    "\n",
    "        return history"
   ]
  },
  {
   "cell_type": "code",
   "execution_count": 31,
   "metadata": {},
   "outputs": [
    {
     "name": "stdout",
     "output_type": "stream",
     "text": [
      "Input Features: 500\n",
      "Number of Classes 2\n",
      "Hidden Layers:\n",
      "---------------\n",
      "Layer 1, Units 100\n",
      "Layer 2, Units 80\n",
      "Layer 3, Units 60\n",
      "Layer 4, Units 50\n",
      "----------------\n",
      "Number of parameters: 66192\n"
     ]
    }
   ],
   "source": [
    "net = NeuralNetwork([500, 100, 80, 60, 50, 2])  \n",
    "net.info()"
   ]
  },
  {
   "cell_type": "code",
   "execution_count": 32,
   "metadata": {},
   "outputs": [],
   "source": [
    "batch_size = 120\n",
    "epochs = 5\n",
    "steps_per_epoch = int(train_padded.shape[0]/batch_size)\n",
    "lr = 3e-3"
   ]
  },
  {
   "cell_type": "code",
   "execution_count": 33,
   "metadata": {},
   "outputs": [
    {
     "name": "stdout",
     "output_type": "stream",
     "text": [
      "Epoch 0............Val acc: 0.499\n",
      "Epoch 1............Val acc: 0.499\n",
      "Epoch 2............Val acc: 0.499\n",
      "Epoch 3............Val acc: 0.499\n",
      "Epoch 4............Val acc: 0.499\n"
     ]
    }
   ],
   "source": [
    "history = net.train(\n",
    "    train_padded, train_label,\n",
    "    test_padded, test_label,\n",
    "    epochs, steps_per_epoch,\n",
    "    batch_size, lr\n",
    ")"
   ]
  },
  {
   "cell_type": "code",
   "execution_count": 34,
   "metadata": {},
   "outputs": [],
   "source": [
    "preds = net.predict(test_padded)"
   ]
  },
  {
   "cell_type": "code",
   "execution_count": 35,
   "metadata": {},
   "outputs": [
    {
     "data": {
      "text/plain": [
       "<tf.Tensor: shape=(5000,), dtype=int64, numpy=array([0, 0, 0, ..., 0, 0, 0], dtype=int64)>"
      ]
     },
     "execution_count": 35,
     "metadata": {},
     "output_type": "execute_result"
    }
   ],
   "source": [
    "preds"
   ]
  }
 ],
 "metadata": {
  "interpreter": {
   "hash": "52323c372af3536a07929d2e92d8546f2ac94e3866667fef53639b2005d24a53"
  },
  "kernelspec": {
   "display_name": "Python 3.8.12 64-bit ('Text_Classification': conda)",
   "language": "python",
   "name": "python3"
  },
  "language_info": {
   "codemirror_mode": {
    "name": "ipython",
    "version": 3
   },
   "file_extension": ".py",
   "mimetype": "text/x-python",
   "name": "python",
   "nbconvert_exporter": "python",
   "pygments_lexer": "ipython3",
   "version": "3.8.12"
  },
  "orig_nbformat": 4
 },
 "nbformat": 4,
 "nbformat_minor": 2
}
